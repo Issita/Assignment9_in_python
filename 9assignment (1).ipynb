{
 "cells": [
  {
   "cell_type": "code",
   "execution_count": 1,
   "id": "0ce647d2-dd6e-4a70-bc01-c17af4f58d42",
   "metadata": {},
   "outputs": [],
   "source": [
    "# Q1, Create a vehicle class with an init method having instance variables as name_of_vehicle, max_speed\n",
    "# and average_of_vehicle."
   ]
  },
  {
   "cell_type": "code",
   "execution_count": 2,
   "id": "b82d3eef-c738-4b16-8a8e-a4676b92d44a",
   "metadata": {},
   "outputs": [],
   "source": [
    "class vehicle:\n",
    "    \n",
    "    def __init__(self, name_of_vehicle, max_speed, average_of_vehicle ):\n",
    "        self.name_of_vehicle = name_of_vehicle\n",
    "        self.max_speed = max_speed\n",
    "        self.average_of_vehicle = average_of_vehicle"
   ]
  },
  {
   "cell_type": "code",
   "execution_count": null,
   "id": "70088fe3-9c60-47fe-b342-2603ffd1c724",
   "metadata": {},
   "outputs": [],
   "source": []
  },
  {
   "cell_type": "code",
   "execution_count": 3,
   "id": "5b466f34-607a-4896-a65b-81f929b2f9bd",
   "metadata": {},
   "outputs": [],
   "source": [
    "# Create a child class car from the vehicle class created in Que 1, which will inherit the vehicle class.\n",
    "#Create a method named seating_capacity which takes capacity as an argument and returns the name of\n",
    "#the vehicle and its seating capacity.\n"
   ]
  },
  {
   "cell_type": "code",
   "execution_count": 7,
   "id": "c8354571-81e1-445b-a3eb-dd3d2072bb9a",
   "metadata": {},
   "outputs": [],
   "source": [
    "class vehicle:\n",
    "    \n",
    "    def __init__(self, name_of_vehicle, max_speed, mileage ):\n",
    "        self.name_of_vehicle = name_of_vehicle\n",
    "        self.max_speed =  max_speed\n",
    "        self.mileage = mileage\n",
    "        \n",
    "class car(vehicle):\n",
    "    \n",
    "    def seating_capacity(self, capacity):\n",
    "        return f\"{self.name_of_vehicle} has setting capacity of {capacity} people\""
   ]
  },
  {
   "cell_type": "code",
   "execution_count": 8,
   "id": "19ab7598-e654-4298-9d68-f05abfc29b5e",
   "metadata": {},
   "outputs": [],
   "source": [
    "c = car(\"Thar\", 180, 30)"
   ]
  },
  {
   "cell_type": "code",
   "execution_count": 9,
   "id": "35d08953-24ae-4376-b233-4a0e69b2f043",
   "metadata": {},
   "outputs": [
    {
     "name": "stdout",
     "output_type": "stream",
     "text": [
      "Thar has setting capacity of 5 people\n"
     ]
    }
   ],
   "source": [
    "print(c.seating_capacity(5))"
   ]
  },
  {
   "cell_type": "code",
   "execution_count": null,
   "id": "a0f7eabf-827a-401d-8790-afc7fa65b0b3",
   "metadata": {},
   "outputs": [],
   "source": []
  },
  {
   "cell_type": "code",
   "execution_count": 10,
   "id": "706df5e4-c008-4870-a9e2-9a511faee140",
   "metadata": {},
   "outputs": [],
   "source": [
    "# Q3. What is multiple inheritance? Write a python code to demonstrate multiple inheritance.\n"
   ]
  },
  {
   "cell_type": "code",
   "execution_count": 11,
   "id": "81a774d6-5a70-42eb-b3b2-24b6353f5fe3",
   "metadata": {},
   "outputs": [
    {
     "data": {
      "text/plain": [
       "' Multiple inheritance where a class can inherit properties and methods from multiple parent classes.'"
      ]
     },
     "execution_count": 11,
     "metadata": {},
     "output_type": "execute_result"
    }
   ],
   "source": [
    "\"\"\" Multiple inheritance where a class can inherit properties and methods from multiple parent classes.\"\"\""
   ]
  },
  {
   "cell_type": "code",
   "execution_count": 12,
   "id": "72e59571-3df8-46b3-b81b-5798d7541a82",
   "metadata": {},
   "outputs": [],
   "source": [
    "class parent1:\n",
    "    def method1(self):\n",
    "        print(\"This method1 is derived from parent1\")\n",
    "\n",
    "class parent2:\n",
    "    def method2(self):\n",
    "        print(\"This method2 is derived from parent2\")\n",
    "        \n",
    "class child(parent1,parent2):\n",
    "    def method3(self):\n",
    "        print(\"This method3 is derived from child\")\n",
    "        \n"
   ]
  },
  {
   "cell_type": "code",
   "execution_count": 13,
   "id": "7f078cad-b0b6-40b2-90bb-803623f05d08",
   "metadata": {},
   "outputs": [],
   "source": [
    "child_obj = child()"
   ]
  },
  {
   "cell_type": "code",
   "execution_count": 14,
   "id": "496b0c41-e883-4911-b1df-07424d98a26e",
   "metadata": {},
   "outputs": [
    {
     "name": "stdout",
     "output_type": "stream",
     "text": [
      "This method1 is derived from parent1\n"
     ]
    }
   ],
   "source": [
    "child_obj.method1()"
   ]
  },
  {
   "cell_type": "code",
   "execution_count": 15,
   "id": "87ce5799-2969-4dc1-8ee9-d21e119ad995",
   "metadata": {},
   "outputs": [
    {
     "name": "stdout",
     "output_type": "stream",
     "text": [
      "This method2 is derived from parent2\n"
     ]
    }
   ],
   "source": [
    "child_obj.method2()"
   ]
  },
  {
   "cell_type": "code",
   "execution_count": 16,
   "id": "30080cca-ca08-4c37-a375-a149ec69df96",
   "metadata": {},
   "outputs": [
    {
     "name": "stdout",
     "output_type": "stream",
     "text": [
      "This method3 is derived from child\n"
     ]
    }
   ],
   "source": [
    "child_obj.method3()"
   ]
  },
  {
   "cell_type": "code",
   "execution_count": null,
   "id": "8f5f4ea2-f26a-4715-b7cb-fd6e621e7c07",
   "metadata": {},
   "outputs": [],
   "source": []
  },
  {
   "cell_type": "code",
   "execution_count": 17,
   "id": "98d184e2-b688-4f1e-addb-a4691a7a0a90",
   "metadata": {},
   "outputs": [],
   "source": [
    "# Q4. What are getter and setter in python? Create a class and create a getter and a setter method in this\n",
    "#class.\n"
   ]
  },
  {
   "cell_type": "code",
   "execution_count": 18,
   "id": "d43db9fe-5506-4e8d-9f8a-b29d8d95fbb5",
   "metadata": {},
   "outputs": [
    {
     "data": {
      "text/plain": [
       "' getter and setter methods are used for accessing and chnaging the value of instance variable.\\nBoth are used for ensure the data encapsulation and prevent direct acccess of class attributes'"
      ]
     },
     "execution_count": 18,
     "metadata": {},
     "output_type": "execute_result"
    }
   ],
   "source": [
    "\"\"\" getter and setter methods are used for accessing and chnaging the value of instance variable.\n",
    "Both are used for ensure the data encapsulation and prevent direct acccess of class attributes\"\"\""
   ]
  },
  {
   "cell_type": "code",
   "execution_count": 19,
   "id": "06165bd3-15f1-4e1b-b470-d0227f063a94",
   "metadata": {},
   "outputs": [],
   "source": [
    "class student:\n",
    "    def __init__(self, name, age):\n",
    "        self.name = name\n",
    "        self.age = age\n",
    "        \n",
    "    def set_age(self,age):\n",
    "        self.age = 0 if age < 0 else age\n",
    "        \n",
    "    def get_age(self):\n",
    "        return self.age\n",
    "    \n",
    "   "
   ]
  },
  {
   "cell_type": "code",
   "execution_count": 20,
   "id": "99782ad7-05dd-4677-ae97-f14643a3aa27",
   "metadata": {},
   "outputs": [],
   "source": [
    "s = student(\"Issita\", 20)"
   ]
  },
  {
   "cell_type": "code",
   "execution_count": 21,
   "id": "4c339ed0-4060-4912-8f53-4c1fd1da29a4",
   "metadata": {},
   "outputs": [
    {
     "data": {
      "text/plain": [
       "20"
      ]
     },
     "execution_count": 21,
     "metadata": {},
     "output_type": "execute_result"
    }
   ],
   "source": [
    "s.get_age()"
   ]
  },
  {
   "cell_type": "code",
   "execution_count": 22,
   "id": "64c8fbea-8e91-4285-8e16-105cef9f99f2",
   "metadata": {},
   "outputs": [],
   "source": [
    "s.set_age(21)"
   ]
  },
  {
   "cell_type": "code",
   "execution_count": 23,
   "id": "fb832b8c-f07c-4ab6-bcca-e52719ec0526",
   "metadata": {},
   "outputs": [
    {
     "data": {
      "text/plain": [
       "21"
      ]
     },
     "execution_count": 23,
     "metadata": {},
     "output_type": "execute_result"
    }
   ],
   "source": [
    "s.get_age()"
   ]
  },
  {
   "cell_type": "code",
   "execution_count": null,
   "id": "fc448c5c-a1db-481a-970d-952ee8b5b074",
   "metadata": {},
   "outputs": [],
   "source": []
  },
  {
   "cell_type": "code",
   "execution_count": null,
   "id": "5c57f934-5168-4fff-9a12-c81169778b07",
   "metadata": {},
   "outputs": [],
   "source": []
  },
  {
   "cell_type": "code",
   "execution_count": 24,
   "id": "b3980d63-0421-4c5f-a74b-ad55521e14d3",
   "metadata": {},
   "outputs": [],
   "source": [
    "# Q5.What is method overriding in python? Write a python code to demonstrate method overriding."
   ]
  },
  {
   "cell_type": "code",
   "execution_count": 25,
   "id": "ddd3e00f-0b74-4bf7-911f-b25ef6d823c4",
   "metadata": {},
   "outputs": [
    {
     "data": {
      "text/plain": [
       "' Method overriding is a feature in object-oriented programming where a child class can provide its own implementation of a method that is already defined in its parent class. '"
      ]
     },
     "execution_count": 25,
     "metadata": {},
     "output_type": "execute_result"
    }
   ],
   "source": [
    "\"\"\" Method overriding is a feature in object-oriented programming where a child class can provide its own implementation of a method that is already defined in its parent class. \"\"\""
   ]
  },
  {
   "cell_type": "code",
   "execution_count": 26,
   "id": "117d1d4d-cdb6-4c93-9e5b-38b34fd09b5f",
   "metadata": {},
   "outputs": [],
   "source": [
    "class animal:\n",
    "    def make_sound(self):\n",
    "        print(\"The animal makes sound\")\n",
    "        \n",
    "class dog(animal):\n",
    "    def make_sound(self):\n",
    "        print(\"Dog barks\")\n",
    "        \n",
    "class cat(animal):\n",
    "    def make_sound(self):\n",
    "        print(\"Cat meows\")\n",
    "        "
   ]
  },
  {
   "cell_type": "code",
   "execution_count": 27,
   "id": "6c31f166-98c9-4d1f-84e8-7eaf39258d23",
   "metadata": {},
   "outputs": [],
   "source": [
    "obj_animal = animal()\n",
    "obj_dog = dog()\n",
    "obj_cat = cat()"
   ]
  },
  {
   "cell_type": "code",
   "execution_count": 28,
   "id": "11b7988f-abbc-4ad1-af87-cd7e7d51652e",
   "metadata": {},
   "outputs": [
    {
     "name": "stdout",
     "output_type": "stream",
     "text": [
      "The animal makes sound\n"
     ]
    }
   ],
   "source": [
    "obj_animal.make_sound()"
   ]
  },
  {
   "cell_type": "code",
   "execution_count": 29,
   "id": "58170ad3-3eed-4d9d-bbe6-40d02d6973ef",
   "metadata": {},
   "outputs": [
    {
     "name": "stdout",
     "output_type": "stream",
     "text": [
      "Dog barks\n"
     ]
    }
   ],
   "source": [
    "obj_dog.make_sound()"
   ]
  },
  {
   "cell_type": "code",
   "execution_count": 30,
   "id": "ad45c5b4-6e55-470a-bea8-b24afaf9cdd5",
   "metadata": {},
   "outputs": [
    {
     "name": "stdout",
     "output_type": "stream",
     "text": [
      "Cat meows\n"
     ]
    }
   ],
   "source": [
    "obj_cat.make_sound()"
   ]
  },
  {
   "cell_type": "code",
   "execution_count": null,
   "id": "93a13d23-f43b-4e08-a877-e54c4bdd60f6",
   "metadata": {},
   "outputs": [],
   "source": []
  }
 ],
 "metadata": {
  "kernelspec": {
   "display_name": "Python 3 (ipykernel)",
   "language": "python",
   "name": "python3"
  },
  "language_info": {
   "codemirror_mode": {
    "name": "ipython",
    "version": 3
   },
   "file_extension": ".py",
   "mimetype": "text/x-python",
   "name": "python",
   "nbconvert_exporter": "python",
   "pygments_lexer": "ipython3",
   "version": "3.10.8"
  }
 },
 "nbformat": 4,
 "nbformat_minor": 5
}
